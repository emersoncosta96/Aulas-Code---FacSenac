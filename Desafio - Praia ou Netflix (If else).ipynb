{
 "cells": [
  {
   "cell_type": "code",
   "execution_count": 2,
   "metadata": {},
   "outputs": [
    {
     "name": "stdout",
     "output_type": "stream",
     "text": [
      " Tá fazendo o que em casa? Vai \"timbora\" na praia, pô.\n"
     ]
    }
   ],
   "source": [
    "#Desafio Praia ou Netflix\n",
    "    #Perguntar ao usuário se está sol\n",
    "tempo = (input ('Está sol? Digite sim ou não:'))\n",
    "\n",
    "    #Printar na tela a ação de acordo com a respota do usuário\n",
    "if(tempo == 'sim'):\n",
    "    financeiro = (input (' Você tem dinheiro? Digite sim ou não:'))\n",
    "    if( financeiro == 'sim'):\n",
    "        print (' Tá fazendo o que em casa? Vai \"timbora\" na praia, pô.')\n",
    "    else:\n",
    "        print ('Você não é \"Todo mundo\" vai ficar em casa viu!')\n",
    "else:\n",
    "    print ('Você não é \"Todo mundo\" vai ficar em casa viiu!')\n"
   ]
  }
 ],
 "metadata": {
  "kernelspec": {
   "display_name": "venv",
   "language": "python",
   "name": "python3"
  },
  "language_info": {
   "codemirror_mode": {
    "name": "ipython",
    "version": 3
   },
   "file_extension": ".py",
   "mimetype": "text/x-python",
   "name": "python",
   "nbconvert_exporter": "python",
   "pygments_lexer": "ipython3",
   "version": "3.12.2"
  }
 },
 "nbformat": 4,
 "nbformat_minor": 2
}
