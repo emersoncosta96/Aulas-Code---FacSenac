{
 "cells": [
  {
   "cell_type": "code",
   "execution_count": 11,
   "metadata": {},
   "outputs": [
    {
     "name": "stdout",
     "output_type": "stream",
     "text": [
      "O valor da taxa de transferência é: 320.0\n"
     ]
    }
   ],
   "source": [
    "#Perguntar o ano do carro\n",
    "\n",
    "ano = int (input (\"Qual é o ano do seu carro?\"))\n",
    "\n",
    "# Perguntar o valor do carro\n",
    "\n",
    "valor_do_carro = float (input (\"Qual é o valor do carro?\"))\n",
    "\n",
    "#Calcular o valor da taxa de transferência de acordo com o ano e valor do carro\n",
    "\n",
    "if (ano < 1990):\n",
    "    taxa = valor_do_carro * 0.01\n",
    "    print ('O valor da taxa de transferência é:' , taxa)\n",
    "else:\n",
    "    taxa = valor_do_carro * 0.015\n",
    "    print ('O valor da taxa de transferência é:' \"R$\",taxa)"
   ]
  },
  {
   "cell_type": "code",
   "execution_count": 5,
   "metadata": {},
   "outputs": [
    {
     "name": "stdout",
     "output_type": "stream",
     "text": [
      "O seu novo salário é: R$ 56700.0 \n",
      "O salário antigo é: R$ 40500.0 \n",
      "A diferença entre os salários é: R$ 16200.0\n"
     ]
    }
   ],
   "source": [
    "#Desafio 2\n",
    "\n",
    "#Perguntar qual é o cargo (responder em texto ou em código)\n",
    "\n",
    "cargo = input (\" Qual é o seu cargo? (responder em texto ou em código) \")\n",
    "\n",
    "#Perguntar quanto é o sálario que ele recebe\n",
    "\n",
    "salario = float (input (\"Quanto é o seu sálario?\"))\n",
    "\n",
    "#De acordo com as respostas fazer os calculos abaixo e printar na tela\n",
    "\n",
    "if ( cargo == '101' or cargo == 'gerente' or cargo == 'Gerente' or cargo == \"GERENTE  \"):\n",
    "    aumento = salario * 0.1\n",
    "    salario_novo = salario + aumento\n",
    "\n",
    "elif ( cargo == '102' or cargo == 'engenheiro' or cargo == 'Engenheiro' or cargo == \"ENGENHEIRO\"):\n",
    "    aumento = salario * 0.2 \n",
    "    salario_novo = salario + aumento\n",
    "elif (cargo == '103' or cargo =='técnico' or cargo =='Técnico' or cargo == \"TÉCNICO\"):\n",
    "    aumento = salario * 0.3\n",
    "    salario_novo = salario + aumento\n",
    "else:\n",
    "    aumento = salario * 0.4\n",
    "    salario_novo = salario + aumento\n",
    "    \n",
    "print ('O seu novo salário é: R$', salario_novo, \"\\n\" 'O salário antigo é: R$', salario, \"\\n\" 'A diferença entre os salários é: R$', aumento)"
   ]
  }
 ],
 "metadata": {
  "kernelspec": {
   "display_name": "Python 3",
   "language": "python",
   "name": "python3"
  },
  "language_info": {
   "codemirror_mode": {
    "name": "ipython",
    "version": 3
   },
   "file_extension": ".py",
   "mimetype": "text/x-python",
   "name": "python",
   "nbconvert_exporter": "python",
   "pygments_lexer": "ipython3",
   "version": "3.9.7"
  }
 },
 "nbformat": 4,
 "nbformat_minor": 2
}
