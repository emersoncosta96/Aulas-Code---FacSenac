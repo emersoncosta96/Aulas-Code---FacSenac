{
 "cells": [
  {
   "cell_type": "code",
   "execution_count": 11,
   "metadata": {},
   "outputs": [],
   "source": [
    "idade1= 20\n",
    "idade2=35\n",
    "\n",
    "soma = idade1 + idade2\n",
    "sub = idade1 - idade2\n",
    "div = idade1 / idade2\n",
    "multi = idade1 * idade2"
   ]
  },
  {
   "cell_type": "code",
   "execution_count": 14,
   "metadata": {},
   "outputs": [
    {
     "name": "stdout",
     "output_type": "stream",
     "text": [
      " A soma das idades são: 55\n",
      " A subtração entre as idades são: -15\n",
      " A divisão das idades são: 0.5714285714285714\n",
      " A multiplicação das idades são: 700\n"
     ]
    }
   ],
   "source": [
    "print (\" A soma das idades são:\", soma)\n",
    "print (\" A subtração entre as idades são:\", sub)\n",
    "print (\" A divisão das idades são:\" , div)\n",
    "print (\" A multiplicação das idades são:\" , multi)"
   ]
  },
  {
   "cell_type": "code",
   "execution_count": 15,
   "metadata": {},
   "outputs": [],
   "source": [
    "calc1 = 2 * (idade1 + idade2)\n",
    "calc2 = 2 * idade1 + 3 * idade2 / 4\n",
    "calc3 = (2* idade1 + 3 * idade2) / 4"
   ]
  },
  {
   "cell_type": "code",
   "execution_count": 16,
   "metadata": {},
   "outputs": [
    {
     "name": "stdout",
     "output_type": "stream",
     "text": [
      "O resultado do primeiro cálculo é: 110\n",
      "O resultado do segundo cálculo é: 66.25\n",
      "O resultado do terceiro cálculo é: 36.25\n"
     ]
    }
   ],
   "source": [
    "print ( \"O resultado do primeiro cálculo é:\", calc1)\n",
    "print (\"O resultado do segundo cálculo é:\" , calc2)\n",
    "print (\"O resultado do terceiro cálculo é:\" , calc3)"
   ]
  },
  {
   "cell_type": "code",
   "execution_count": 17,
   "metadata": {},
   "outputs": [],
   "source": [
    "expo1 = idade1 **2\n",
    "expo2= 15 ** 2"
   ]
  },
  {
   "cell_type": "code",
   "execution_count": 20,
   "metadata": {},
   "outputs": [
    {
     "name": "stdout",
     "output_type": "stream",
     "text": [
      "O resultado exponenciação1 é: 400\n",
      "O resultado da exponenciação2 é: 225\n"
     ]
    }
   ],
   "source": [
    "print(\"O resultado exponenciação1 é:\" , expo1)\n",
    "print (\"O resultado da exponenciação2 é:\" , expo2)"
   ]
  },
  {
   "cell_type": "code",
   "execution_count": 23,
   "metadata": {},
   "outputs": [
    {
     "name": "stdout",
     "output_type": "stream",
     "text": [
      "Emerson Costa\n"
     ]
    }
   ],
   "source": [
    "nome = 'Emerson'\n",
    "sobrenome = 'Costa'\n",
    "\n",
    "print (nome, sobrenome)"
   ]
  },
  {
   "cell_type": "code",
   "execution_count": 38,
   "metadata": {},
   "outputs": [
    {
     "name": "stdout",
     "output_type": "stream",
     "text": [
      "Olá, Emerson. \n",
      " você tem 27 anos.\n"
     ]
    }
   ],
   "source": [
    "print ('Olá,', nome +'.', '\\n','você tem', idade1 + 7, 'anos.')\n"
   ]
  },
  {
   "cell_type": "code",
   "execution_count": 3,
   "metadata": {},
   "outputs": [
    {
     "name": "stdout",
     "output_type": "stream",
     "text": [
      "27\n"
     ]
    }
   ],
   "source": [
    "\n",
    "idade= input('Digite sua idade:')\n",
    "\n",
    "print(idade)\n",
    "\n"
   ]
  },
  {
   "cell_type": "code",
   "execution_count": 4,
   "metadata": {},
   "outputs": [
    {
     "data": {
      "text/plain": [
       "str"
      ]
     },
     "execution_count": 4,
     "metadata": {},
     "output_type": "execute_result"
    }
   ],
   "source": [
    "type(idade)"
   ]
  },
  {
   "cell_type": "code",
   "execution_count": 5,
   "metadata": {},
   "outputs": [],
   "source": [
    "idade= int(input('Digite sua idade:'))"
   ]
  },
  {
   "cell_type": "code",
   "execution_count": 6,
   "metadata": {},
   "outputs": [
    {
     "data": {
      "text/plain": [
       "int"
      ]
     },
     "execution_count": 6,
     "metadata": {},
     "output_type": "execute_result"
    }
   ],
   "source": [
    "type(idade)"
   ]
  },
  {
   "cell_type": "code",
   "execution_count": 9,
   "metadata": {},
   "outputs": [
    {
     "name": "stdout",
     "output_type": "stream",
     "text": [
      "11\n"
     ]
    }
   ],
   "source": [
    "// OBS: Sinal de menos antes do \"=\"\n",
    "num1 = 12\n",
    "num1 -= 1\n",
    "print(num1)"
   ]
  },
  {
   "cell_type": "code",
   "execution_count": 10,
   "metadata": {},
   "outputs": [
    {
     "name": "stdout",
     "output_type": "stream",
     "text": [
      "13\n"
     ]
    }
   ],
   "source": [
    "num2 = 12\n",
    "num2 += 1\n",
    "print (num2)"
   ]
  }
 ],
 "metadata": {
  "kernelspec": {
   "display_name": "Python 3",
   "language": "python",
   "name": "python3"
  },
  "language_info": {
   "codemirror_mode": {
    "name": "ipython",
    "version": 3
   },
   "file_extension": ".py",
   "mimetype": "text/x-python",
   "name": "python",
   "nbconvert_exporter": "python",
   "pygments_lexer": "ipython3",
   "version": "3.10.11"
  }
 },
 "nbformat": 4,
 "nbformat_minor": 2
}
