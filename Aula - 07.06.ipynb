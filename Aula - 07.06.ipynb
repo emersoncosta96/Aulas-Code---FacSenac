{
 "cells": [
  {
   "cell_type": "code",
   "execution_count": 2,
   "metadata": {},
   "outputs": [
    {
     "name": "stdout",
     "output_type": "stream",
     "text": [
      "Número 1\n",
      "Número 2\n",
      "Número 3\n",
      "Número 4\n",
      "Número 5\n"
     ]
    }
   ],
   "source": [
    "def funcaoLeitura():\n",
    "    for num in [1,2,3,4,5]:\n",
    "        print('Número',num)\n",
    "\n",
    "funcaoLeitura()"
   ]
  },
  {
   "cell_type": "code",
   "execution_count": 3,
   "metadata": {},
   "outputs": [
    {
     "name": "stdout",
     "output_type": "stream",
     "text": [
      "Número 0\n",
      "Número 1\n",
      "Número 2\n",
      "Número 3\n",
      "Número 4\n"
     ]
    }
   ],
   "source": [
    "#outra maniera de se fazer \n",
    "def funcaoLeitura():\n",
    "    for num in range(5):\n",
    "        print(\"Número\", num)\n",
    "\n",
    "funcaoLeitura()"
   ]
  },
  {
   "cell_type": "code",
   "execution_count": 4,
   "metadata": {},
   "outputs": [
    {
     "name": "stdout",
     "output_type": "stream",
     "text": [
      "O primeiro número é: 10\n",
      "O primeiro segundo é: 15\n",
      "O primeiro terceiro é: 25\n"
     ]
    }
   ],
   "source": [
    "def addNUm(n1,n2):\n",
    "    print('O primeiro número é:',n1)\n",
    "    print('O primeiro segundo é:',n2)\n",
    "    print('O primeiro terceiro é:',n1 + n2)\n",
    "\n",
    "addNUm(10,15)"
   ]
  },
  {
   "cell_type": "code",
   "execution_count": 5,
   "metadata": {},
   "outputs": [
    {
     "name": "stdout",
     "output_type": "stream",
     "text": [
      "Variavel da função multiplica: 20\n",
      "10\n"
     ]
    }
   ],
   "source": [
    "varGlobal = 10 #essa é uma variavel global \n",
    "def multiplicaçao(num1,num2):\n",
    "    #apesar do mesmo nome a variavel é local\n",
    "    varGlobal = (num1 * num2)\n",
    "    print('Variavel da função multiplica:', varGlobal)\n",
    "\n",
    "multiplicaçao(5,4)\n",
    "print(varGlobal)"
   ]
  },
  {
   "cell_type": "code",
   "execution_count": 6,
   "metadata": {},
   "outputs": [
    {
     "name": "stdout",
     "output_type": "stream",
     "text": [
      "Variavel da função multiplica: 20\n",
      "20\n"
     ]
    }
   ],
   "source": [
    "varGlobal = 10 #essa é uma variavel global \n",
    "def multiplica(num1,num2):\n",
    "    #apesar do mesmo nome a variavel é local\n",
    "    varlocal = num1 * num2\n",
    "    print('Variavel da função multiplica:', varlocal)\n",
    "    print(varlocal)\n",
    "\n",
    "multiplica(5,4)"
   ]
  },
  {
   "cell_type": "code",
   "execution_count": 7,
   "metadata": {},
   "outputs": [
    {
     "data": {
      "text/plain": [
       "['cibele', 'Maria', 'Suely']"
      ]
     },
     "execution_count": 7,
     "metadata": {},
     "output_type": "execute_result"
    }
   ],
   "source": [
    "def separarTexto(texto):\n",
    "    return texto.split()\n",
    "separarTexto(\"cibele Maria Suely\")"
   ]
  },
  {
   "cell_type": "code",
   "execution_count": 8,
   "metadata": {},
   "outputs": [
    {
     "name": "stdout",
     "output_type": "stream",
     "text": [
      "Parâmetros 0 Cibele\n",
      "Parâmetros 1 Suely\n",
      "Parâmetros 2 Giggio\n",
      "Parâmetros 3 Madá\n",
      "Parâmetros 4 Luquinhas\n"
     ]
    }
   ],
   "source": [
    "#Quando não sabemos a quantidade de parâmetros basta usar\n",
    "\n",
    "def variosParametros (*parametros):\n",
    "    for n, item in enumerate (parametros):\n",
    "        print (\"Parâmetros\", n, item)\n",
    "    return\n",
    "\n",
    "variosParametros ('Cibele','Suely','Giggio', 'Madá', 'Luquinhas')"
   ]
  },
  {
   "cell_type": "code",
   "execution_count": 1,
   "metadata": {},
   "outputs": [],
   "source": [
    "#Calculadora\n",
    "\n",
    "def soma (n1, n2):\n",
    "    return n1 + n2\n",
    "\n",
    "def subtrai  (n1, n2):\n",
    "    return n1-n2\n",
    "\n",
    "def multiplica (n1, n2):\n",
    "    return n1 * n2\n",
    "\n",
    "def divide (n1, n2):\n",
    "    return n1 / n2"
   ]
  },
  {
   "cell_type": "code",
   "execution_count": 6,
   "metadata": {},
   "outputs": [
    {
     "name": "stdout",
     "output_type": "stream",
     "text": [
      "+==================+\n",
      "| MENU DE OPERAÇÕES\n",
      "| 1 - somar        \n",
      "| 2 - subtrair     \n",
      "| 3 - multiplicar  \n",
      "| 4 - dividir      \n",
      "| 0 - sair         \n",
      "+==================+\n",
      "Operação inválida!\n"
     ]
    }
   ],
   "source": [
    "while True:\n",
    "    print (\"+==================+\")\n",
    "    print (\"| MENU DE OPERAÇÕES\")\n",
    "    print (\"| 1 - somar        \")\n",
    "    print (\"| 2 - subtrair     \")\n",
    "    print (\"| 3 - multiplicar  \")\n",
    "    print (\"| 4 - dividir      \")\n",
    "    print (\"| 0 - sair         \")\n",
    "    print (\"+==================+\")\n",
    "\n",
    "    op = int (input ())\n",
    "    if op ==0:\n",
    "        break\n",
    "    n1 =  int(input (\"Primeiro número:\"))\n",
    "    n2 =  int(input (\"Segundo número:\"))\n",
    "\n",
    "    if op ==1:\n",
    "        print (\"O resultado da soma é: \", soma (n1,n2))\n",
    "    elif op==2:\n",
    "        print (\"O resultado da subtração é: \", subtrai (n1, n2))\n",
    "    elif op==3:\n",
    "        print (\"O resultado da multiplicação é: \", multiplica (n1, n2))\n",
    "    elif op==4:\n",
    "        print (\"O resultado da divisão é: \", divide (n1, n2))\n",
    "    else:\n",
    "        print(\"Operação inválida!\")\n",
    "        break\n",
    "    \n",
    "    \n",
    " "
   ]
  }
 ],
 "metadata": {
  "kernelspec": {
   "display_name": "Python 3",
   "language": "python",
   "name": "python3"
  },
  "language_info": {
   "codemirror_mode": {
    "name": "ipython",
    "version": 3
   },
   "file_extension": ".py",
   "mimetype": "text/x-python",
   "name": "python",
   "nbconvert_exporter": "python",
   "pygments_lexer": "ipython3",
   "version": "3.9.7"
  }
 },
 "nbformat": 4,
 "nbformat_minor": 2
}
