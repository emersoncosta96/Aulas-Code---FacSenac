{
 "cells": [
  {
   "cell_type": "code",
   "execution_count": 5,
   "metadata": {},
   "outputs": [
    {
     "name": "stdout",
     "output_type": "stream",
     "text": [
      "Olá, meu nome é Emerson Costa!\n",
      "E eu não gosto de Mc Donalds, por que eu sou FIT\n"
     ]
    }
   ],
   "source": [
    "print(\"Olá, meu nome é Emerson Costa!\")\n",
    "print(\"E eu não gosto de Mc Donalds, por que eu sou FIT\")"
   ]
  },
  {
   "cell_type": "code",
   "execution_count": 19,
   "metadata": {},
   "outputs": [
    {
     "name": "stdout",
     "output_type": "stream",
     "text": [
      "Helo, i'am Emerson Costa!\n"
     ]
    }
   ],
   "source": [
    "nome= \"Emerson Costa!\"\n",
    "print(\"Helo, i'am\", nome)\n",
    "    "
   ]
  },
  {
   "cell_type": "code",
   "execution_count": 20,
   "metadata": {},
   "outputs": [
    {
     "name": "stdout",
     "output_type": "stream",
     "text": [
      "Eu tenho 27 anos de idade\n"
     ]
    }
   ],
   "source": [
    "idade= 27\n",
    "print(\"Eu tenho\" , idade, \"anos de idade\")"
   ]
  },
  {
   "cell_type": "code",
   "execution_count": null,
   "metadata": {},
   "outputs": [],
   "source": [
    "pessoa= \"Emerson\"\n",
    "idade= 27\n",
    "altura= 1.70\n",
    "dev= True"
   ]
  }
 ],
 "metadata": {
  "kernelspec": {
   "display_name": "Python 3",
   "language": "python",
   "name": "python3"
  },
  "language_info": {
   "codemirror_mode": {
    "name": "ipython",
    "version": 3
   },
   "file_extension": ".py",
   "mimetype": "text/x-python",
   "name": "python",
   "nbconvert_exporter": "python",
   "pygments_lexer": "ipython3",
   "version": "3.10.11"
  }
 },
 "nbformat": 4,
 "nbformat_minor": 2
}
