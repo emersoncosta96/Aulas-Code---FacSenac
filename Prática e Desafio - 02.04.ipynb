{
 "cells": [
  {
   "cell_type": "code",
   "execution_count": 11,
   "metadata": {},
   "outputs": [
    {
     "name": "stdout",
     "output_type": "stream",
     "text": [
      "O valor digitado foi 45\n"
     ]
    }
   ],
   "source": [
    "valorint = int (input(\"Digite um número:\"))\n",
    "\n",
    "print(\"O valor digitado foi\" , valorint)"
   ]
  },
  {
   "cell_type": "code",
   "execution_count": 6,
   "metadata": {},
   "outputs": [
    {
     "name": "stdout",
     "output_type": "stream",
     "text": [
      "A soma dos números digitados são: 89\n"
     ]
    }
   ],
   "source": [
    "valor1 = int (input(\"Digite um número:\"))\n",
    "valor2 = int (input(\"Digite outro número:\"))\n",
    "resultado = valor1 + valor2\n",
    "print (\"A soma dos valores é:\", resultado)"
   ]
  },
  {
   "cell_type": "code",
   "execution_count": 9,
   "metadata": {},
   "outputs": [
    {
     "name": "stdout",
     "output_type": "stream",
     "text": [
      "A média das notas é: 8.799999999999999\n"
     ]
    }
   ],
   "source": [
    "nota1 = float (input(\"Digite a primeira nota:\"))\n",
    "nota2 = float (input(\"Digite a segunda nota:\"))\n",
    "nota3 = float (input(\"Digite a terceira nota:\"))\n",
    "resultmed = (nota1 + nota2 + nota3) / 3\n",
    "print (\"A média das notas é:\", resultmed)"
   ]
  },
  {
   "cell_type": "code",
   "execution_count": 13,
   "metadata": {},
   "outputs": [
    {
     "name": "stdout",
     "output_type": "stream",
     "text": [
      "Você recebe R$ 4080.0 no mês\n"
     ]
    }
   ],
   "source": [
    "salario_hora = float (input(\"Digite quanto você ganha por hora:\"))\n",
    "horas_trab = float (input(\"Digite o número de horas que você trabalha no mês:\"))\n",
    "salario_mes = salario_hora * horas_trab\n",
    "print (\"Você recebe R$\",salario_mes , \"no mês\")"
   ]
  },
  {
   "cell_type": "code",
   "execution_count": 21,
   "metadata": {},
   "outputs": [
    {
     "name": "stdout",
     "output_type": "stream",
     "text": [
      "Não precisa pagar multa\n"
     ]
    }
   ],
   "source": [
    "#DESAFIO\n",
    "\n",
    "#Perguntar quantos Kg de Peixe João trouxe\n",
    "peso_de_peixe = float (input(\"Quantos Kg de peixe João trouxe?\"))\n",
    "#Calcular o Excesso\n",
    "if( peso_de_peixe > 50):\n",
    "    excesso = peso_de_peixe - 50\n",
    "    print (\"João excedeu:\", excesso, \"Kg\")\n",
    "    #Calcular o valor da multa\n",
    "    multa = excesso * 4\n",
    "    print(\"O valor da multa é R$\",multa)\n",
    "else:\n",
    "    (print (\"Não precisa pagar multa\"))"
   ]
  },
  {
   "cell_type": "code",
   "execution_count": null,
   "metadata": {},
   "outputs": [],
   "source": []
  }
 ],
 "metadata": {
  "kernelspec": {
   "display_name": "Python 3",
   "language": "python",
   "name": "python3"
  },
  "language_info": {
   "codemirror_mode": {
    "name": "ipython",
    "version": 3
   },
   "file_extension": ".py",
   "mimetype": "text/x-python",
   "name": "python",
   "nbconvert_exporter": "python",
   "pygments_lexer": "ipython3",
   "version": "3.9.7"
  }
 },
 "nbformat": 4,
 "nbformat_minor": 2
}
