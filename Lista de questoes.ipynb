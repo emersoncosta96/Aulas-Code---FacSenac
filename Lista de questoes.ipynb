{
 "cells": [
  {
   "cell_type": "markdown",
   "metadata": {},
   "source": [
    "6) Faça um Programa que peça 2 números inteiros e um número real. Calcule e mostre:\n",
    "\n",
    "a)O produto do dobro do primeiro com metade do segundo.\n",
    "\n",
    "b)A soma do triplo do primeiro com o terceiro. o terceiro elevado ao cubo.\n"
   ]
  },
  {
   "cell_type": "code",
   "execution_count": 16,
   "metadata": {},
   "outputs": [
    {
     "name": "stdout",
     "output_type": "stream",
     "text": [
      "6.0\n"
     ]
    }
   ],
   "source": [
    "#peça ao usuário o primeiro valor\n",
    "num1 = int(input(\"Digite um número:\"))\n",
    "#peça ao usuáriro o segundo valor\n",
    "num2 = int(input(\"Digite outro número:\"))\n",
    "#peça ao usuário o terceiro valor\n",
    "num3 = float(input(\"Digite outro número:\"))\n",
    "#calcular do resultado\n",
    "resultadoA = (2*num1) * (num2 / 2)\n",
    "#imprima o resultado na tela\n",
    "print(resultadoA)"
   ]
  },
  {
   "cell_type": "code",
   "execution_count": 17,
   "metadata": {},
   "outputs": [
    {
     "name": "stdout",
     "output_type": "stream",
     "text": [
      "9.375\n"
     ]
    }
   ],
   "source": [
    "#calcular o resultado\n",
    "resultadoB = 3*num1 + (num3**3)\n",
    "#imprima o resultado na tela\n",
    "print(resultadoB)\n",
    "             "
   ]
  },
  {
   "cell_type": "markdown",
   "metadata": {},
   "source": [
    "7) Faça um Programa que peça dois números e imprima o maior deles.\n"
   ]
  },
  {
   "cell_type": "code",
   "execution_count": 36,
   "metadata": {},
   "outputs": [
    {
     "name": "stdout",
     "output_type": "stream",
     "text": [
      "O maior número é: 10\n"
     ]
    }
   ],
   "source": [
    "#peça ao usuário o primeiro valor\n",
    "valor1 = int(input(\"Digite um número:\"))\n",
    "#peça ao usuário o segundo valor\n",
    "valor2 = int(input(\"Digite o segundo número:\"))\n",
    "#verificar qual é o maior e o menor\n",
    "if valor1 > valor2:\n",
    "#imprima o valor na tela\n",
    "    print(\"O maior número é:\", valor1)\n",
    "#imprima o valor na tela\n",
    "else:\n",
    "    print(\"O maior número é:\", valor2)"
   ]
  },
  {
   "cell_type": "markdown",
   "metadata": {},
   "source": [
    "8) Faça um Programa que peça um valor e mostre na tela se o valor é positivo ou negativo.\n"
   ]
  },
  {
   "cell_type": "code",
   "execution_count": 37,
   "metadata": {},
   "outputs": [
    {
     "name": "stdout",
     "output_type": "stream",
     "text": [
      "Seu número é positivo: 10\n"
     ]
    }
   ],
   "source": [
    "#peça ao usuário um valor\n",
    "valor = int(input(\"Digite um número:\"))\n",
    "#verificar se é positivo e negativo\n",
    "if valor>0:\n",
    "#imprima o valor na se é positivo\n",
    "    print(\"Seu número é positivo:\", valor)\n",
    "#verificar se o valor é nulo\n",
    "elif valor ==0:\n",
    "#imprima o valor na se mulo\n",
    "    print(\"Seu número é nulo\", valor)\n",
    "else:\n",
    "#imprima o valor na se é negativo\n",
    "\n",
    "    print(\"Seu número é negativo\", valor)\n"
   ]
  },
  {
   "cell_type": "markdown",
   "metadata": {},
   "source": [
    "9) Faça um programa para a leitura de duas notas parciais de um aluno. O programa deve calcular a média alcançada por aluno e apresentar o resultado \"Aprovado\" ou \"Reprovado\". Considere que a escola adota média 7,00.\n"
   ]
  },
  {
   "cell_type": "code",
   "execution_count": 38,
   "metadata": {},
   "outputs": [
    {
     "name": "stdout",
     "output_type": "stream",
     "text": [
      "Você está reprovado!!!\n"
     ]
    }
   ],
   "source": [
    "#peça as notas ao usuário\n",
    "nota1 = float(input(\"Digite sua primeira nota:\"))\n",
    "nota2 = float(input(\"Digite sua segunda nota:\"))\n",
    "#calculos das notas\n",
    "media = (nota1 + nota2) / 2\n",
    "#verificar se ele está aprovado\n",
    "if media >=7:\n",
    "#imprima se o usuário está aprovado\n",
    "    print(\"Você está aprovado!!!\")\n",
    "else: \n",
    "#imprima se o usuário está reprovado\n",
    "    print(\"Você está reprovado!!!\")"
   ]
  },
  {
   "cell_type": "markdown",
   "metadata": {},
   "source": [
    "10) Faça um Programa que leia três números e mostre o maior deles.\n"
   ]
  },
  {
   "cell_type": "code",
   "execution_count": 45,
   "metadata": {},
   "outputs": [
    {
     "name": "stdout",
     "output_type": "stream",
     "text": [
      "O número maior entre: 20 20 e 30 é 30\n"
     ]
    }
   ],
   "source": [
    "#peça os números ao usuário\n",
    "num1 = int(input(\"Digite um número:\"))\n",
    "num2 = int(input(\"Digite um outro número:\"))\n",
    "num3 = int(input(\"Digite um outro número:\"))\n",
    "#verificar qual é maior\n",
    "if num1 >= num2 and num1 >=num3:\n",
    "    maior = num1\n",
    "#se os valores for iguais, não aparece o maior\n",
    "elif num2 >= num1 and num2 >= num3:\n",
    "    maior = num2\n",
    "else:\n",
    "    maior = num3\n",
    "#imprima os valores na tela\n",
    "    print(\"O número maior entre:\", num1, num2, 'e', num3, 'é', maior)\n"
   ]
  }
 ],
 "metadata": {
  "kernelspec": {
   "display_name": "Python 3",
   "language": "python",
   "name": "python3"
  },
  "language_info": {
   "codemirror_mode": {
    "name": "ipython",
    "version": 3
   },
   "file_extension": ".py",
   "mimetype": "text/x-python",
   "name": "python",
   "nbconvert_exporter": "python",
   "pygments_lexer": "ipython3",
   "version": "3.12.2"
  }
 },
 "nbformat": 4,
 "nbformat_minor": 2
}
