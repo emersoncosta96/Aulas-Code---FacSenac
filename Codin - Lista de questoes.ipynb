{
 "cells": [
  {
   "cell_type": "code",
   "execution_count": 3,
   "metadata": {},
   "outputs": [
    {
     "name": "stdout",
     "output_type": "stream",
     "text": [
      "A letra escolhida é: \" a \" esta letra é uma vogal.\n"
     ]
    }
   ],
   "source": [
    "#1 - Faça um Programa que verifique se uma letra digitada é vogal ou consoante.\n",
    "\n",
    "letra = input(\"Digite uma letra:\")\n",
    "if (letra == 'A' or letra == 'a' or letra == 'E' or letra == 'e' or letra == 'I' or letra == 'i' or letra == 'O' or letra == 'o' or letra == 'U' or letra == 'u'):\n",
    "    print(\"A letra escolhida é: \"'\"',letra,'\"' \" esta letra é uma vogal.\")\n",
    "else:\n",
    "    print(\"A letra escolhida é: \"'\"',letra,'\"'  \" esta letra é uma consoante.\" )  "
   ]
  },
  {
   "cell_type": "code",
   "execution_count": 6,
   "metadata": {},
   "outputs": [
    {
     "name": "stdout",
     "output_type": "stream",
     "text": [
      "O produto 2 é o mais barato, ele custa R$ 3.4\n"
     ]
    }
   ],
   "source": [
    "#2- Faça um programa que pergunte o preço de três produtos e informe qual produto você deve comprar,\n",
    "#sabendo que a decisão é sempre pelo mais barato.\n",
    "\n",
    "produto1= float (input(\"Digite o valor do produto 1:\"))\n",
    "produto2= float (input(\"Digite o valor do produto 2:\"))\n",
    "produto3= float (input(\"Digite o valor do produto 3:\"))\n",
    "\n",
    "if produto1 < produto2 and produto1 < produto3:\n",
    "    print(\"O produto 1 é o mais barato, ele custa R$\", produto1)\n",
    "elif produto2 < produto1 and produto2 < produto3:\n",
    "    print(\"O produto 2 é o mais barato, ele custa R$\", produto2)\n",
    "else:\n",
    "     print(\"O produto 3 é o mais barato, ele custa R$\", produto3)"
   ]
  },
  {
   "cell_type": "code",
   "execution_count": 9,
   "metadata": {},
   "outputs": [
    {
     "name": "stdout",
     "output_type": "stream",
     "text": [
      "A ordem decrescente é 76.0, 4.0 e 3.0\n"
     ]
    }
   ],
   "source": [
    "#3 - Faça um Programa que leia três números e mostre-os em ordem decrescente.\n",
    "n1 = int(input(\"Digite o primeiro número: \"))\n",
    "n2 = int(input(\"Digite o segundo número: \"))\n",
    "n3 = int(input(\"Digite o terceiro número: \"))\n",
    "\n",
    "if n1 >= n2 and n1 >= n3:\n",
    "    if n2 >= n3:\n",
    "        print(\"A ordem decrescente é {n1}, {n2} e {n3}\")\n",
    "    else:\n",
    "        print(f\"A ordem decrescente é {n1}, {n3} e {n2}\")\n",
    "elif n2 >= n1 and n2 >= n3:\n",
    "    if a >= c:\n",
    "        print(f\"A ordem decrescente é {b}, {a} e {c}\")\n",
    "    else:\n",
    "        print(f\"A ordem decrescente é {b}, {c} e {a}\")\n",
    "else:\n",
    "    if a >= b:\n",
    "        print(f\"A ordem decrescente é {c}, {a} e {b}\")\n",
    "    else:\n",
    "        print(f\"A ordem decrescente é {c}, {b} e {a}\")\n",
    "\n"
   ]
  },
  {
   "cell_type": "code",
   "execution_count": null,
   "metadata": {},
   "outputs": [],
   "source": [
    "#4 - Faça um Programa que pergunte em que turno você estuda. Peça para digitar M-matutino ou V-Vespertino ou N- Noturno. Imprima a mensagem “Bom Dia!”, “Boa Tarde!” ou “Boa Noite!” ou “Valor Inválido!”, conforme o caso."
   ]
  },
  {
   "cell_type": "code",
   "execution_count": null,
   "metadata": {},
   "outputs": [],
   "source": []
  }
 ],
 "metadata": {
  "kernelspec": {
   "display_name": "Python 3",
   "language": "python",
   "name": "python3"
  },
  "language_info": {
   "codemirror_mode": {
    "name": "ipython",
    "version": 3
   },
   "file_extension": ".py",
   "mimetype": "text/x-python",
   "name": "python",
   "nbconvert_exporter": "python",
   "pygments_lexer": "ipython3",
   "version": "3.12.3"
  }
 },
 "nbformat": 4,
 "nbformat_minor": 2
}
