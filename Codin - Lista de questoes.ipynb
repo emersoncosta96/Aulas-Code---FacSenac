{
 "cells": [
  {
   "cell_type": "code",
   "execution_count": 3,
   "metadata": {},
   "outputs": [
    {
     "name": "stdout",
     "output_type": "stream",
     "text": [
      "A letra escolhida é: \" a \" esta letra é uma vogal.\n"
     ]
    }
   ],
   "source": [
    "#1 - Faça um Programa que verifique se uma letra digitada é vogal ou consoante.\n",
    "\n",
    "letra = input(\"Digite uma letra:\")\n",
    "if (letra == 'A' or letra == 'a' or letra == 'E' or letra == 'e' or letra == 'I' or letra == 'i' or letra == 'O' or letra == 'o' or letra == 'U' or letra == 'u'):\n",
    "    print(\"A letra escolhida é: \"'\"',letra,'\"' \" esta letra é uma vogal.\")\n",
    "else:\n",
    "    print(\"A letra escolhida é: \"'\"',letra,'\"'  \" esta letra é uma consoante.\" )  "
   ]
  },
  {
   "cell_type": "code",
   "execution_count": 6,
   "metadata": {},
   "outputs": [
    {
     "name": "stdout",
     "output_type": "stream",
     "text": [
      "O produto 2 é o mais barato, ele custa R$ 3.4\n"
     ]
    }
   ],
   "source": [
    "#2- Faça um programa que pergunte o preço de três produtos e informe qual produto você deve comprar,\n",
    "#sabendo que a decisão é sempre pelo mais barato.\n",
    "\n",
    "produto1= float (input(\"Digite o valor do produto 1:\"))\n",
    "produto2= float (input(\"Digite o valor do produto 2:\"))\n",
    "produto3= float (input(\"Digite o valor do produto 3:\"))\n",
    "\n",
    "if produto1 < produto2 and produto1 < produto3:\n",
    "    print(\"O produto 1 é o mais barato, ele custa R$\", produto1)\n",
    "elif produto2 < produto1 and produto2 < produto3:\n",
    "    print(\"O produto 2 é o mais barato, ele custa R$\", produto2)\n",
    "else:\n",
    "     print(\"O produto 3 é o mais barato, ele custa R$\", produto3)"
   ]
  },
  {
   "cell_type": "code",
   "execution_count": 1,
   "metadata": {},
   "outputs": [
    {
     "name": "stdout",
     "output_type": "stream",
     "text": [
      "A ordem decrescente é 344, 5 e 1\n"
     ]
    }
   ],
   "source": [
    "#3 - Faça um Programa que leia três números e mostre-os em ordem decrescente.\n",
    "n1 = int(input(\"Digite o primeiro número: \"))\n",
    "n2 = int(input(\"Digite o segundo número: \"))\n",
    "n3 = int(input(\"Digite o terceiro número: \"))\n",
    "\n",
    "if n1 >= n2 and n1 >= n3:\n",
    "    if n2 >= n3:\n",
    "        print(f\"A ordem decrescente é {n1}, {n2} e {n3}\")\n",
    "    else:\n",
    "        print(f\"A ordem decrescente é {n1}, {n3} e {n2}\")\n",
    "elif n2 >= n1 and n2 >= n3:\n",
    "    if n1 >= n3:\n",
    "        print(f\"A ordem decrescente é {n2}, {n1} e {n3}\")\n",
    "    else:\n",
    "        print(f\"A ordem decrescente é {n2}, {n3} e {n1}\")\n",
    "else:\n",
    "    if n1 >= n2:\n",
    "        print(f\"A ordem decrescente é {n3}, {n1} e {n2}\")\n",
    "    else:\n",
    "        print(f\"A ordem decrescente é {n3}, {n2} e {n1}\")\n",
    "\n"
   ]
  },
  {
   "cell_type": "code",
   "execution_count": 8,
   "metadata": {},
   "outputs": [
    {
     "name": "stdout",
     "output_type": "stream",
     "text": [
      "Bom dia!\n"
     ]
    }
   ],
   "source": [
    "#4 - Faça um Programa que pergunte em que turno você estuda. Peça para digitar M-matutino ou V-Vespertino ou N- Noturno.\n",
    "#Imprima a mensagem “Bom Dia!”, “Boa Tarde!” ou “Boa Noite!” ou “Valor Inválido!”, conforme o caso.\n",
    "\n",
    "turno = (input(\"Em qual tudo você estuda? M = matutino, V = vespertino ou N = noturno\"))\n",
    "manha = [ \"M\", \"m\"]\n",
    "tarde = [\"V\", \"v\"]\n",
    "noite = [\"N\", \"n\"]\n",
    "if (turno in manha):\n",
    "    print(\"Bom dia!\")\n",
    "elif (turno in tarde):\n",
    "    print(\"Boa tarde!\")\n",
    "elif (turno in noite):\n",
    "    print(\"Boa noite!\")\n",
    "else:\n",
    "    print (\"Valor invalido, tente novamente!\")"
   ]
  },
  {
   "cell_type": "code",
   "execution_count": 12,
   "metadata": {},
   "outputs": [
    {
     "name": "stdout",
     "output_type": "stream",
     "text": [
      "18 = Sábado\n"
     ]
    }
   ],
   "source": [
    "#5 - 5. Faça um Programa que leia um número e exiba o dia correspondente da semana. (1-Domingo, 2- Segunda, etc). Se for digitado outro valor deve retornar uma mensagem informando valor inválido.\n",
    "\n",
    "diadasemana = int(input('Digite um número de 1 a 7'))\n",
    "\n",
    "if(diadasemana == 1):\n",
    "    print(diadasemana,' = Domingo')\n",
    "elif(diadasemana == 2):\n",
    "    print(diadasemana,' = Segunda')\n",
    "elif(diadasemana == 3):\n",
    "    print(diadasemana,' = Terça')\n",
    "elif(diadasemana == 4):\n",
    "    print(diadasemana,' = Quarta')\n",
    "elif(diadasemana == 5):\n",
    "    print(diadasemana,' = Quinta')\n",
    "elif(diadasemana == 6):\n",
    "    print(diadasemana,' = Sexta')\n",
    "elif(diadasemana == 7):\n",
    "    print(diadasemana,' = Sábado')\n",
    "else:\n",
    "    print('Valor inválido, digite um número dentro do intervalo sugerido.')"
   ]
  },
  {
   "cell_type": "code",
   "execution_count": 5,
   "metadata": {},
   "outputs": [
    {
     "name": "stdout",
     "output_type": "stream",
     "text": [
      "O seu conceito foi: A , a média foi: 2.6 , você está REPROVADO!\n"
     ]
    }
   ],
   "source": [
    "#6 - 5. Faça um programa que leia as duas notas parciais obtidas por um aluno numa disciplina ao longo de um semestre, e calcule a sua média.\n",
    "#A atribuição de conceitos obedece à regra: Média de Aproveitamento Conceito - Entre 9.0 e 10.0 - A / Entre 7.5 e 9.0 - B / Entre 6.0 e 7.5 - C / Entre 4.0 e 6.0 - D / Entre 4.0 e zero - E\n",
    "#O programa deve mostrar na tela o conceito correspondente e a mensagem \"APROVADO\" se o conceito for A, B ou C ou \"REPROVADO\" se o conceito for D ou E.\n",
    "\n",
    "nota1= float(input('digite a primeira nota'))\n",
    "nota2= float(input('digite a segunda nota'))\n",
    "\n",
    "\n",
    "mediadanotas = (nota1 + nota2 ) / 2\n",
    "conceito = ['A','B','C','D','E']\n",
    "\n",
    "if(mediadanotas >= 9 and  mediadanotas <= 10 ):\n",
    "    print( \"O seu conceito foi:\",conceito[0],\", a média foi:\", mediadanotas,\", você está APROVADA!\")\n",
    "elif(mediadanotas >= 7.5 and  mediadanotas <= 8.9 ):\n",
    "    print(\"O seu conceito foi:\",conceito[0],\", a média foi:\", mediadanotas,\", você está APROVADO!\")\n",
    "elif(mediadanotas >= 6.0 and  mediadanotas <= 7.4 ):\n",
    "    print(\"O seu conceito foi:\",conceito[0],\", a média foi:\", mediadanotas,\", você está APROVADO!\")\n",
    "elif(mediadanotas >= 4.0 and  mediadanotas <= 5.9 ):\n",
    "    print(\"O seu conceito foi:\",conceito[0],\", a média foi:\", mediadanotas,\", você está REPROVADO!\")\n",
    "else:\n",
    "    print(\"O seu conceito foi:\",conceito[0],\", a média foi:\", mediadanotas,\", você está REPROVADO!\")\n",
    "\n",
    "\n",
    "\n",
    "\n",
    "\n",
    "\n",
    "\n",
    "\n",
    "\n",
    "\n",
    "\n"
   ]
  },
  {
   "cell_type": "code",
   "execution_count": 6,
   "metadata": {},
   "outputs": [
    {
     "name": "stdout",
     "output_type": "stream",
     "text": [
      "1996 É um ano bissexto.\n"
     ]
    }
   ],
   "source": [
    "#7- Faça um Programa que peça um número correspondente a um determinado ano e em seguida informe se este ano é ou não bissexto.\n",
    "\n",
    "ano = int(input('Digite um ano para saber se e bissexto:'))\n",
    "\n",
    "if (ano % 4 == 0 and ano % 100 != 0) or (ano % 400 == 0):\n",
    "    print(ano,'É um ano bissexto.')\n",
    "else:\n",
    "    print(ano,'Não é um ano bissexto.')"
   ]
  },
  {
   "cell_type": "code",
   "execution_count": 1,
   "metadata": {},
   "outputs": [
    {
     "name": "stdout",
     "output_type": "stream",
     "text": [
      "O resultado da operação é: 0.572692793931732\n",
      "O número é ímpar.\n",
      "O número é positivo.\n",
      "O número é decimal.\n"
     ]
    }
   ],
   "source": [
    "#8- Faça um Programa que leia 2 números e em seguida pergunte ao usuário qual operação básica (soma, subtração, multiplicação, divisão, exponenciação) ele deseja realizar. O resultado da operação deve ser acompanhado de uma frase que diga se o número é: par ou ímpar; positivo ou negativo; inteiro ou decimal.\n",
    "\n",
    "numero1 = float(input('Digite o primeiro número: '))\n",
    "numero2 = float(input('Digite o segundo número: '))\n",
    "operacao = input('Qual operação você deseja realizar? (soma, subtração, multiplicação, divisão, exponenciação): ')\n",
    "\n",
    "if operacao == 'soma':\n",
    "    resultado = numero1 + numero2\n",
    "elif operacao == 'subtração':\n",
    "    resultado = numero1 - numero2\n",
    "elif operacao == 'multiplicação':\n",
    "    resultado = numero1 * numero2\n",
    "elif operacao == 'divisão':\n",
    "    resultado = numero1 / numero2\n",
    "elif operacao == 'exponenciação':\n",
    "    resultado = numero1 ** numero2\n",
    "else:\n",
    "    print('Operação inválida.')\n",
    "    exit()\n",
    "\n",
    "print('O resultado da operação é:', resultado)\n",
    "\n",
    "if resultado % 2 == 0:\n",
    "    print('O número é par.')\n",
    "else:\n",
    "    print('O número é ímpar.')\n",
    "\n",
    "if resultado > 0:\n",
    "    print('O número é positivo.')\n",
    "elif resultado < 0:\n",
    "    print('O número é negativo.')\n",
    "else:\n",
    "    print('O número é zero.')\n",
    "\n",
    "if resultado == int(resultado):\n",
    "    print('O número é inteiro.')\n",
    "else:\n",
    "    print('O número é decimal.')"
   ]
  },
  {
   "cell_type": "code",
   "execution_count": 3,
   "metadata": {},
   "outputs": [
    {
     "name": "stdout",
     "output_type": "stream",
     "text": [
      "Idade fora do intervalo válido (0 a 150). Tente novamente.\n"
     ]
    }
   ],
   "source": [
    "#9- Faça um programa que peça a idade e exiba a informação. Os valores aceitáveis devem estar entre 0 e 150. Valores fora desse limite não poderão ser aceitos.\n",
    "\n",
    "idade = int(input(\"Digite a sua idade: \"))\n",
    "\n",
    "if(idade >= 0 and idade <= 150):\n",
    "    print('A sua idade é:', idade)\n",
    "else:\n",
    "    print(\"Idade fora do intervalo válido (0 a 150). Tente novamente.\")"
   ]
  },
  {
   "cell_type": "code",
   "execution_count": 4,
   "metadata": {},
   "outputs": [
    {
     "name": "stdout",
     "output_type": "stream",
     "text": [
      "A soma dos números é:  26.0\n",
      "A média dos números é:  5.2\n"
     ]
    }
   ],
   "source": [
    "#10 Utilizando estruturas de repetição (com ou sem .append), faça um programa que leia 5 números e informe a soma e a média dos números.\n",
    "\n",
    "numeros = []\n",
    "for i in range(5):\n",
    "    num = float(input(\"Digite um número: \"))\n",
    "    numeros.append(num)\n",
    "\n",
    "soma = sum(numeros)\n",
    "media = soma / len(numeros)\n",
    "\n",
    "print(\"A soma dos números é: \", soma)\n",
    "print(\"A média dos números é: \", media)"
   ]
  },
  {
   "cell_type": "code",
   "execution_count": 9,
   "metadata": {},
   "outputs": [
    {
     "name": "stdout",
     "output_type": "stream",
     "text": [
      "Divisível por 2\n",
      "Divisível por 3\n",
      "Divisível por 6\n",
      "Divisível por 13\n",
      "Divisível por 26\n",
      "Divisível por 39\n",
      "78 não é um número primo.\n"
     ]
    }
   ],
   "source": [
    "#11 - Faça um programa que peça um número inteiro e determine se ele é ou não um número primo. Um número primo é aquele que é divisível somente por ele mesmo e por 1.\n",
    "\n",
    "valor = int(input(\"Digite um valor e veja se é um número primo: \"))\n",
    "\n",
    "divisores = 0\n",
    "\n",
    "for i in range(2, valor):\n",
    "    if(valor % i == 0):\n",
    "        print('Divisível por', i)\n",
    "        divisores += 1\n",
    "\n",
    "if(divisores == 0):\n",
    "    print(valor,'é um número primo.')\n",
    "else:\n",
    "    print(valor,'não é um número primo.')"
   ]
  },
  {
   "cell_type": "code",
   "execution_count": 16,
   "metadata": {},
   "outputs": [
    {
     "name": "stdout",
     "output_type": "stream",
     "text": [
      "A média da temperatura é: 22.8\n",
      "O menor valor da temperatura é: 14.0\n",
      "O maior valor da temperatura é: 35.0\n"
     ]
    }
   ],
   "source": [
    "#12- O Departamento Estadual de Meteorologia lhe contratou para desenvolver um programa que leia 5 Temperaturas, e informe ao final a menor e maior temperatura informadas, bem como a média das temperaturas.\n",
    "\n",
    "temperaturas = [] \n",
    "soma = 0\n",
    "\n",
    "for i in range(5):\n",
    "    temperatura = float(input('Informe uma temperatura: '))\n",
    "    temperaturas.append(temperatura) \n",
    "    soma += temperatura\n",
    "\n",
    "media = soma / len(temperaturas)\n",
    "menorValor = min(temperaturas)\n",
    "maiorValor = max(temperaturas)\n",
    "\n",
    "print(\"A média da temperatura é:\", media)\n",
    "print(\"O menor valor da temperatura é:\", menorValor)\n",
    "print(\"O maior valor da temperatura é:\", maiorValor)"
   ]
  },
  {
   "cell_type": "code",
   "execution_count": null,
   "metadata": {},
   "outputs": [],
   "source": [
    "#13 - Um banco concederá um crédito especial aos seus clientes, variável com o saldo médio no último ano. Faça um algoritmo que leia o saldo médio de um cliente e calcule o valor do crédito de acordo com a tabela abaixo. Mostre uma mensagem informando o saldo médio e o valor do crédito.\n",
    "#Saldo médio Percentual:De 0 a 200 - nenhum crédito / De 201 a 400 - 20% do valor do saldo médio / De 401 a 600 - 30% do valor do saldo médio / Acima de 601 - 40% do valor do saldo médio\n",
    "\n",
    "numero = float(input('Informe o valor do seu saldo médio '))\n",
    "\n",
    "saldo2 = 20/100 * numero\n",
    "saldo3 = 30/100 * numero\n",
    "saldo4 = 40/100 * numero \n",
    "\n",
    "if(numero >= 0 and numero <= 200):\n",
    "    print('Seu saldo médio é:', numero,',e seu percentual é 0')\n",
    "elif(numero > 200 and numero <= 400):\n",
    "    print('Seu saldo médio é:', numero,',e seu percentual é', saldo2)\n",
    "elif(numero > 400 and numero <= 600):\n",
    "    print('Seu saldo médio é:', numero,',e seu percentual é', saldo3)\n",
    "else:\n",
    "    print('Seu saldo médio é:', numero,',e seu percentual é', saldo4)"
   ]
  },
  {
   "cell_type": "code",
   "execution_count": 1,
   "metadata": {},
   "outputs": [
    {
     "name": "stdout",
     "output_type": "stream",
     "text": [
      "Olá, emerson costa! Você poderá se aposentar no ano 2061.\n"
     ]
    }
   ],
   "source": [
    "#14 - Você foi contratado(a) para fazer um serviço para o INSS (Instituto Nacional do Seguro Social) do Brasil. O trabalho consiste em criar um programa que diga à pessoa o ano em que ela poderá se aposentar. Você deve perguntar à pessoa o nome, a idade e criar uma mensagem informando em qual ano ela irá se aposentar. Considere que todas as pessoas poderão se aposentar aos 65 anos de idade.\n",
    "\n",
    "\n",
    "nome = input(\"Digite o seu nome: \")\n",
    "idade = int(input(\"Digite a sua idade: \"))\n",
    "\n",
    "\n",
    "ano_atual = 2024  \n",
    "idade_aposentadoria = 65\n",
    "ano_aposentadoria = ano_atual + (idade_aposentadoria - idade)\n",
    "\n",
    "print(f\"Olá, {nome}! Você poderá se aposentar no ano {ano_aposentadoria}.\")"
   ]
  },
  {
   "cell_type": "code",
   "execution_count": 3,
   "metadata": {},
   "outputs": [
    {
     "name": "stdout",
     "output_type": "stream",
     "text": [
      "Salário Bruto: R$1843.82\n",
      "Desconto do Imposto de Renda: R$0.00\n",
      "Desconto do Sindicato: R$55.31\n",
      "Valor do FGTS: R$202.82\n",
      "Salário Líquido: R$1788.51\n"
     ]
    }
   ],
   "source": [
    "#Questão 15\n",
    "\n",
    "valor_hora = float(input(\"Digite o valor da sua hora de trabalho: \"))\n",
    "horas_trabalhadas = float(input(\"Digite a quantidade de horas trabalhadas no mês: \"))\n",
    "\n",
    "salario_bruto = valor_hora * horas_trabalhadas\n",
    "\n",
    "if salario_bruto <= 2112:\n",
    "    desconto_ir = 0\n",
    "elif 2112 < salario_bruto <= 2826.65:\n",
    "    desconto_ir = 0.075 * salario_bruto\n",
    "elif 2826.66 < salario_bruto <= 3751.05:\n",
    "    desconto_ir = 0.15 * salario_bruto\n",
    "elif 3751.06 < salario_bruto <= 4664.68:\n",
    "    desconto_ir = 0.225 * salario_bruto\n",
    "else:\n",
    "    desconto_ir = 0.275 * salario_bruto\n",
    "\n",
    "desconto_sindicato = 0.03 * salario_bruto\n",
    "fgts = 0.11 * salario_bruto\n",
    "salario_liquido = salario_bruto - desconto_ir - desconto_sindicato\n",
    "print(f\"Salário Bruto: R${salario_bruto:.2f}\")\n",
    "print(f\"Desconto do Imposto de Renda: R${desconto_ir:.2f}\")\n",
    "print(f\"Desconto do Sindicato: R${desconto_sindicato:.2f}\")\n",
    "print(f\"Valor do FGTS: R${fgts:.2f}\")\n",
    "print(f\"Salário Líquido: R${salario_liquido:.2f}\")"
   ]
  }
 ],
 "metadata": {
  "kernelspec": {
   "display_name": "Python 3",
   "language": "python",
   "name": "python3"
  },
  "language_info": {
   "codemirror_mode": {
    "name": "ipython",
    "version": 3
   },
   "file_extension": ".py",
   "mimetype": "text/x-python",
   "name": "python",
   "nbconvert_exporter": "python",
   "pygments_lexer": "ipython3",
   "version": "3.11.9"
  }
 },
 "nbformat": 4,
 "nbformat_minor": 2
}
