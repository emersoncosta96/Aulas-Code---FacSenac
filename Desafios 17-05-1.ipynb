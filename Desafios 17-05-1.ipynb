{
 "cells": [
  {
   "cell_type": "code",
   "execution_count": 7,
   "metadata": {},
   "outputs": [
    {
     "name": "stdout",
     "output_type": "stream",
     "text": [
      "5 foram passear \n",
      " Além das montanhas para brincar \n",
      " A mamãe gritou: Quá, quá, quá, quá \n",
      " Mas só 4 patinhos voltaram de lá.\n",
      "4 foram passear \n",
      " Além das montanhas para brincar \n",
      " A mamãe gritou: Quá, quá, quá, quá \n",
      " Mas só 3 patinhos voltaram de lá.\n",
      "3 foram passear \n",
      " Além das montanhas para brincar \n",
      " A mamãe gritou: Quá, quá, quá, quá \n",
      " Mas só 2 patinhos voltaram de lá.\n",
      "2 foram passear \n",
      " Além das montanhas para brincar \n",
      " A mamãe gritou: Quá, quá, quá, quá \n",
      " Mas só 1 patinhos voltaram de lá.\n",
      "1 foi passear \n",
      " Além das montanhas para brincar \n",
      " A mamãe gritou: Quá, quá, quá, quá \n",
      " Mas nenhum patinho voltou de lá.\n",
      "\n",
      "  A mamãe patinha foi procurar \n",
      " Alé das montanhas,na beira do mar \n",
      " A mamãe gritou:  Quá, quá, quá, quá! \n",
      " E os 5 patinhos voltaram de lá.\n"
     ]
    }
   ],
   "source": [
    "for patinho in [5, 4, 3, 2, 1]:\n",
    "    if patinho != 1:\n",
    "        print (patinho, \"foram passear \\n Além das montanhas para brincar \\n A mamãe gritou: Quá, quá, quá, quá \\n Mas só\", patinho-1, \"patinhos voltaram de lá.\")\n",
    "    else:\n",
    "        print (patinho, \"foi passear \\n Além das montanhas para brincar \\n A mamãe gritou: Quá, quá, quá, quá \\n Mas nenhum patinho voltou de lá.\" )\n",
    "        \n",
    "print( \"\\n\", \" A mamãe patinha foi procurar \\n Alé das montanhas,na beira do mar \\n A mamãe gritou:  Quá, quá, quá, quá! \\n E os 5 patinhos voltaram de lá.\")\n",
    "\n",
    "    "
   ]
  },
  {
   "cell_type": "code",
   "execution_count": 9,
   "metadata": {},
   "outputs": [
    {
     "name": "stdout",
     "output_type": "stream",
     "text": [
      "10 x 0 = 0\n",
      "10 x 1 = 10\n",
      "10 x 2 = 20\n",
      "10 x 3 = 30\n",
      "10 x 4 = 40\n",
      "10 x 5 = 50\n",
      "10 x 6 = 60\n",
      "10 x 7 = 70\n",
      "10 x 8 = 80\n",
      "10 x 9 = 90\n",
      "10 x 10 = 100\n"
     ]
    }
   ],
   "source": [
    "#Pedir ao usuário para digitar um número\n",
    "n_usuario = int(input (\"Digite um número:\"))\n",
    "\n",
    "#Pegar o número que usuário digitou, criar um Range e printar na tela a tabuada desse número\n",
    "for multi in range (11):\n",
    "    print (n_usuario, \"x\", multi, \"=\", multi * n_usuario)\n",
    "\n",
    "    "
   ]
  },
  {
   "cell_type": "code",
   "execution_count": null,
   "metadata": {},
   "outputs": [],
   "source": []
  }
 ],
 "metadata": {
  "kernelspec": {
   "display_name": "Python 3",
   "language": "python",
   "name": "python3"
  },
  "language_info": {
   "codemirror_mode": {
    "name": "ipython",
    "version": 3
   },
   "file_extension": ".py",
   "mimetype": "text/x-python",
   "name": "python",
   "nbconvert_exporter": "python",
   "pygments_lexer": "ipython3",
   "version": "3.12.3"
  }
 },
 "nbformat": 4,
 "nbformat_minor": 2
}
